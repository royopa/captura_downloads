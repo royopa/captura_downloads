{
 "cells": [
  {
   "cell_type": "code",
   "execution_count": 21,
   "metadata": {},
   "outputs": [
    {
     "ename": "ImportError",
     "evalue": "cannot import name 'convert_columns_dtypes' from 'utils' (/Users/rodrigo/projects/captura_downloads/captura_downloads/notebooks/utils.py)",
     "output_type": "error",
     "traceback": [
      "\u001b[0;31m---------------------------------------------------------------------------\u001b[0m",
      "\u001b[0;31mImportError\u001b[0m                               Traceback (most recent call last)",
      "Cell \u001b[0;32mIn[21], line 7\u001b[0m\n\u001b[1;32m      5\u001b[0m \u001b[38;5;28;01mfrom\u001b[39;00m\u001b[38;5;250m \u001b[39m\u001b[38;5;21;01mutils\u001b[39;00m\u001b[38;5;250m \u001b[39m\u001b[38;5;28;01mimport\u001b[39;00m get_engine\n\u001b[1;32m      6\u001b[0m \u001b[38;5;28;01mimport\u001b[39;00m\u001b[38;5;250m \u001b[39m\u001b[38;5;21;01mbizdays\u001b[39;00m\n\u001b[0;32m----> 7\u001b[0m \u001b[38;5;28;01mfrom\u001b[39;00m\u001b[38;5;250m \u001b[39m\u001b[38;5;21;01mutils\u001b[39;00m\u001b[38;5;250m \u001b[39m\u001b[38;5;28;01mimport\u001b[39;00m convert_columns_dtypes\n\u001b[1;32m      9\u001b[0m data_atual \u001b[38;5;241m=\u001b[39m datetime\u001b[38;5;241m.\u001b[39mnow()\n\u001b[1;32m     10\u001b[0m cal \u001b[38;5;241m=\u001b[39m bizdays\u001b[38;5;241m.\u001b[39mCalendar\u001b[38;5;241m.\u001b[39mload(\u001b[38;5;124m'\u001b[39m\u001b[38;5;124mANBIMA\u001b[39m\u001b[38;5;124m'\u001b[39m)\n",
      "\u001b[0;31mImportError\u001b[0m: cannot import name 'convert_columns_dtypes' from 'utils' (/Users/rodrigo/projects/captura_downloads/captura_downloads/notebooks/utils.py)"
     ]
    }
   ],
   "source": [
    "from datetime import datetime\n",
    "import os\n",
    "import pandas as pd\n",
    "from pathlib import Path\n",
    "from utils import get_engine\n",
    "import bizdays\n",
    "from utils import convert_columns_dtypes\n",
    "\n",
    "data_atual = datetime.now()\n",
    "cal = bizdays.Calendar.load('ANBIMA')\n",
    "data_referencia = cal.offset(data_atual, -1)\n",
    "\n",
    "data_arquivo = data_atual.strftime('%Y%m%d')\n",
    "file_path = os.path.join('..', '..', 'downloads_bulk', f'{data_arquivo}_anbima_mercado_secundario_debentures.txt')\n",
    "\n",
    "df = pd.read_csv(file_path, sep='@', encoding='latin1', decimal=',', thousands='.', skiprows=2)\n",
    "df.insert(0, 'DT_REF', data_referencia)\n",
    "\n",
    "a_renomear = {\n",
    "    'Código':'CO_DEBENTURE',\n",
    "    'Nome':'NO_EMISSOR',\n",
    "    'Repac./  Venc.':'DT_VENCTO',\n",
    "    'Índice/ Correção':'DE_INDICE_CORRECAO',\n",
    "    'Taxa de Compra':'VR_TAXA_COMPRA',\n",
    "    'Taxa de Venda':'VR_TAXA_VENDA',\n",
    "    'Taxa Indicativa':'VR_TA_INDICATIVA',\n",
    "    'Desvio Padrão':'VR_DESVIO_PADRAO',\n",
    "    'Intervalo Indicativo Minimo':'VR_INTERVALO_INDICATIVO_MIN',\n",
    "    'Intervalo Indicativo Máximo':'VR_INTERVALO_INDICATIVO_MAX',\n",
    "    'PU':'VR_PU',\n",
    "    '% PU Par / % VNE':'PC_PU_PAR_VNE',\n",
    "    'Duration':'NU_DURATION',\n",
    "    '% Reune':'PC_REUNE',\n",
    "    'Referência NTN-B':'DT_REF_NTN_B',\n",
    "}\n",
    "\n",
    "df = df.rename(columns=a_renomear)\n",
    "\n",
    "df['DT_REF'] = pd.to_datetime(df['DT_REF'])\n",
    "df['DT_VENCTO'] = pd.to_datetime(df['DT_VENCTO'], format='%d/%m/%Y')\n",
    "df['DT_REF_NTN_B'] = pd.to_datetime(df['DT_REF_NTN_B'], format='%d/%m/%Y')\n",
    "\n",
    "df = convert_columns_dtypes(df)\n",
    "\n",
    "file_name = Path(file_path).name\n",
    "schema = file_name.split('_')[1]\n",
    "table_name = file_name.split('_anbima_')[1].split('.')[0]\n",
    "df.head().to_sql(table_name, con=get_engine(), if_exists='replace', index=False, schema=schema)\n",
    "\n",
    "df.to_csv(file_path.replace('.txt', '.csv'), sep=';', index=False, encoding='utf-8', lineterminator='\\n')\n",
    "\n",
    "print('Fim da execução')\n",
    "\n",
    "df.tail()"
   ]
  },
  {
   "cell_type": "markdown",
   "metadata": {},
   "source": []
  }
 ],
 "metadata": {
  "kernelspec": {
   "display_name": ".venv",
   "language": "python",
   "name": "python3"
  },
  "language_info": {
   "codemirror_mode": {
    "name": "ipython",
    "version": 3
   },
   "file_extension": ".py",
   "mimetype": "text/x-python",
   "name": "python",
   "nbconvert_exporter": "python",
   "pygments_lexer": "ipython3",
   "version": "3.12.8"
  }
 },
 "nbformat": 4,
 "nbformat_minor": 2
}
