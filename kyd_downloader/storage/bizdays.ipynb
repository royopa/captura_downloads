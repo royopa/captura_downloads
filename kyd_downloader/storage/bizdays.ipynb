{
 "cells": [
  {
   "cell_type": "code",
   "execution_count": 11,
   "metadata": {},
   "outputs": [],
   "source": [
    "from bizdays import Calendar, set_option\n",
    "\n",
    "set_option(\"mode\", \"pandas\")"
   ]
  },
  {
   "cell_type": "code",
   "execution_count": 12,
   "metadata": {},
   "outputs": [],
   "source": [
    "import pandas as pd"
   ]
  },
  {
   "cell_type": "code",
   "execution_count": 13,
   "metadata": {},
   "outputs": [],
   "source": [
    "from datetime import datetime, timedelta\n",
    "\n",
    "dates = []\n",
    "date = datetime(2016, 1, 1)\n",
    "while date <= datetime(2022, 12, 30):\n",
    "    dates.append(date)\n",
    "    date += timedelta(days=1)"
   ]
  },
  {
   "cell_type": "code",
   "execution_count": 14,
   "metadata": {},
   "outputs": [],
   "source": [
    "df_dates = pd.DataFrame({\"refdate\": dates})"
   ]
  },
  {
   "cell_type": "code",
   "execution_count": 15,
   "metadata": {},
   "outputs": [],
   "source": [
    "cal = Calendar.load(\"ANBIMA\")\n",
    "df_dates[\"isbizday_ANBIMA\"] = cal.isbizday(df_dates[\"refdate\"])"
   ]
  },
  {
   "cell_type": "code",
   "execution_count": 16,
   "metadata": {},
   "outputs": [],
   "source": [
    "cal = Calendar.load(\"B3\")\n",
    "df_dates[\"isbizday_B3\"] = cal.isbizday(df_dates[\"refdate\"])"
   ]
  },
  {
   "cell_type": "code",
   "execution_count": 17,
   "metadata": {},
   "outputs": [
    {
     "data": {
      "text/html": [
       "<div>\n",
       "<style scoped>\n",
       "    .dataframe tbody tr th:only-of-type {\n",
       "        vertical-align: middle;\n",
       "    }\n",
       "\n",
       "    .dataframe tbody tr th {\n",
       "        vertical-align: top;\n",
       "    }\n",
       "\n",
       "    .dataframe thead th {\n",
       "        text-align: right;\n",
       "    }\n",
       "</style>\n",
       "<table border=\"1\" class=\"dataframe\">\n",
       "  <thead>\n",
       "    <tr style=\"text-align: right;\">\n",
       "      <th></th>\n",
       "      <th>refdate</th>\n",
       "      <th>isbizday_ANBIMA</th>\n",
       "      <th>isbizday_B3</th>\n",
       "    </tr>\n",
       "  </thead>\n",
       "  <tbody>\n",
       "    <tr>\n",
       "      <th>2216</th>\n",
       "      <td>2022-01-25</td>\n",
       "      <td>True</td>\n",
       "      <td>True</td>\n",
       "    </tr>\n",
       "  </tbody>\n",
       "</table>\n",
       "</div>"
      ],
      "text/plain": [
       "        refdate  isbizday_ANBIMA  isbizday_B3\n",
       "2216 2022-01-25             True         True"
      ]
     },
     "execution_count": 17,
     "metadata": {},
     "output_type": "execute_result"
    }
   ],
   "source": [
    "df_dates[df_dates[\"refdate\"] == \"2022-01-25\"]"
   ]
  },
  {
   "cell_type": "code",
   "execution_count": 18,
   "metadata": {},
   "outputs": [],
   "source": [
    "import pandas_gbq\n",
    "# from google.cloud import bigquery"
   ]
  },
  {
   "cell_type": "code",
   "execution_count": 19,
   "metadata": {},
   "outputs": [
    {
     "name": "stderr",
     "output_type": "stream",
     "text": [
      "100%|██████████| 1/1 [00:00<00:00, 1003.90it/s]\n"
     ]
    }
   ],
   "source": [
    "project_id = \"kyd-storage\"\n",
    "\n",
    "pandas_gbq.to_gbq(\n",
    "    df_dates,\n",
    "    \"layer1_b3.tb_calendar\",\n",
    "    project_id=project_id,\n",
    "    if_exists=\"replace\",\n",
    ")"
   ]
  }
 ],
 "metadata": {
  "kernelspec": {
   "display_name": "Python 3.9.13 ('workspace')",
   "language": "python",
   "name": "python3"
  },
  "language_info": {
   "codemirror_mode": {
    "name": "ipython",
    "version": 3
   },
   "file_extension": ".py",
   "mimetype": "text/x-python",
   "name": "python",
   "nbconvert_exporter": "python",
   "pygments_lexer": "ipython3",
   "version": "3.9.13"
  },
  "orig_nbformat": 4,
  "vscode": {
   "interpreter": {
    "hash": "bad76c8714ef3af658c952c48d8b1f2a1b257be52e9d19ba39beaed74019188e"
   }
  }
 },
 "nbformat": 4,
 "nbformat_minor": 2
}
